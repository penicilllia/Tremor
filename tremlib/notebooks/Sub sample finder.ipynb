{
 "cells": [
  {
   "cell_type": "code",
   "execution_count": 1,
   "metadata": {
    "ExecuteTime": {
     "end_time": "2019-05-04T17:52:20.966192Z",
     "start_time": "2019-05-04T17:52:16.975287Z"
    }
   },
   "outputs": [],
   "source": [
    "from tremlib import TremResearcher\n",
    "import cv2\n",
    "from PIL import Image\n",
    "import numpy as np\n",
    "import matplotlib.pyplot as plt\n",
    "import time"
   ]
  },
  {
   "cell_type": "code",
   "execution_count": 2,
   "metadata": {
    "ExecuteTime": {
     "end_time": "2019-05-04T17:52:21.870382Z",
     "start_time": "2019-05-04T17:52:21.861379Z"
    }
   },
   "outputs": [],
   "source": [
    "researcher = TremResearcher(marks_num=5, marks_size_mm=10)"
   ]
  },
  {
   "cell_type": "code",
   "execution_count": 2,
   "metadata": {
    "ExecuteTime": {
     "end_time": "2019-05-05T05:05:04.610969Z",
     "start_time": "2019-05-04T17:52:31.051312Z"
    },
    "code_folding": []
   },
   "outputs": [
    {
     "ename": "NameError",
     "evalue": "name 'researcher' is not defined",
     "traceback": [
      "\u001b[1;31m---------------------------------------------------------------------------\u001b[0m",
      "\u001b[1;31mNameError\u001b[0m                                 Traceback (most recent call last)",
      "\u001b[1;32m<ipython-input-2-148b417f3352>\u001b[0m in \u001b[0;36m<module>\u001b[1;34m\u001b[0m\n\u001b[0;32m      6\u001b[0m \u001b[1;33m\u001b[0m\u001b[0m\n\u001b[0;32m      7\u001b[0m     \u001b[0mcalib_images_path\u001b[0m \u001b[1;33m=\u001b[0m \u001b[1;34mfr'D:\\Projects\\Tremor\\Calibration\\Calibration photo\\Accurate attempt 5'\u001b[0m\u001b[1;33m\u001b[0m\u001b[1;33m\u001b[0m\u001b[0m\n\u001b[1;32m----> 8\u001b[1;33m     \u001b[0mcalib_images\u001b[0m \u001b[1;33m=\u001b[0m \u001b[0mnp\u001b[0m\u001b[1;33m.\u001b[0m\u001b[0masarray\u001b[0m\u001b[1;33m(\u001b[0m\u001b[0mresearcher\u001b[0m\u001b[1;33m.\u001b[0m\u001b[0mphoto_files\u001b[0m\u001b[1;33m(\u001b[0m\u001b[0mcalib_images_path\u001b[0m\u001b[1;33m)\u001b[0m\u001b[1;33m)\u001b[0m\u001b[1;33m\u001b[0m\u001b[1;33m\u001b[0m\u001b[0m\n\u001b[0m\u001b[0;32m      9\u001b[0m     \u001b[0mfiles_to_check\u001b[0m \u001b[1;33m=\u001b[0m \u001b[0mlen\u001b[0m\u001b[1;33m(\u001b[0m\u001b[0mcalib_images\u001b[0m\u001b[1;33m)\u001b[0m\u001b[1;33m\u001b[0m\u001b[1;33m\u001b[0m\u001b[0m\n\u001b[0;32m     10\u001b[0m \u001b[1;33m\u001b[0m\u001b[0m\n",
      "\u001b[1;31mNameError\u001b[0m: name 'researcher' is not defined"
     ],
     "output_type": "error"
    }
   ],
   "source": [
    "if __name__ == '__main__':\n",
    "    from multiprocessing import Pool\n",
    "    import time\n",
    "    import os\n",
    "    from functools import partial\n",
    "    \n",
    "    calib_images_path = fr'D:\\Projects\\Tremor\\Calibration\\Calibration photo\\Accurate attempt 5'\n",
    "    calib_images = np.asarray(TremResearcher.photo_files(calib_images_path))\n",
    "    files_to_check = len(calib_images)\n",
    "    \n",
    "    \n",
    "    def f(calib_images_path, step_num):\n",
    "        from tremlib import TremResearcher\n",
    "        import numpy as np\n",
    "        import cv2\n",
    "        \n",
    "        FRAMES_PER_STEP = 3\n",
    "        STEP_MM = 5\n",
    "        \n",
    "        allowable_error = np.arange(5, 0, -5/60)[step_num]\n",
    "        \n",
    "        _researcher = TremResearcher(marks_num=5, marks_size_mm=10)\n",
    "        calib_images = np.asarray(_researcher.photo_files(calib_images_path))\n",
    "        \n",
    "        check_img_paths_X = _researcher.\\\n",
    "                             photo_files(r'D:\\Projects\\Tremor\\Calibration\\Check calibration photo\\Focus distance 50 mm 2\\X')\n",
    "        check_img_paths_Y = _researcher.\\\n",
    "                             photo_files(r'D:\\Projects\\Tremor\\Calibration\\Check calibration photo\\Focus distance 50 mm 2\\Y')\n",
    "        \n",
    "        errors = np.loadtxt('Errors for Accurate attempt 5 XY (2).txt')\n",
    "        x_errors, y_errors = errors\n",
    "        bool_indexes = np.logical_and(x_errors < allowable_error, y_errors < allowable_error)\n",
    "        \n",
    "        if len(calib_images[bool_indexes]) == 0:        \n",
    "            return None\n",
    "        \n",
    "        with open(r'Logs\\Logs_of_%2d_thread.txt' % step_num, 'w') as f:\n",
    "            # import sys\n",
    "            # stdout_back = sys.stdout\n",
    "            # sys.stdout = f\n",
    "            print(f\"Calibrate sample with allowable_error={allowable_error}. Started.\\n\")\n",
    "            _researcher.calibrate(images_paths=calib_images[bool_indexes])\n",
    "            print(f\"Calibrate sample with allowable_error={allowable_error}. Finished.\\n\")\n",
    "        \n",
    "            def mean_and_track(check_img_paths):\n",
    "                print(f\"Recognition with allowable_error={allowable_error}. Started.\\n\")\n",
    "                \n",
    "                if len(check_img_paths) != 0:\n",
    "                    print(\"Folder: %s\" % check_img_paths[0].split('\\\\')[0])\n",
    "                \n",
    "                postions = []\n",
    "                for image_path in check_img_paths:\n",
    "                    frame = cv2.imread(image_path)\n",
    "                    postions += list(_researcher.get_xyz(frame)[0].values())\n",
    "                print(f\"Recognition with allowable_error={allowable_error}. Finished.\\n\")\n",
    "    \n",
    "                postions = np.asarray(postions)\n",
    "                postions -= postions[0]\n",
    "    \n",
    "                length = [np.linalg.norm(position) for position in postions]\n",
    "                r = length - np.asarray([i*STEP_MM for i in range(len(length)//FRAMES_PER_STEP) for j in range(FRAMES_PER_STEP)])\n",
    "    \n",
    "                return np.mean(r), r\n",
    "            mean_x, sigma_x = mean_and_track(check_img_paths_X)\n",
    "            mean_y, sigma_y = mean_and_track(check_img_paths_Y)\n",
    "    \n",
    "            _res = {'mean_x' : mean_x,\n",
    "                    'sigma_x': sigma_x,\n",
    "                    'mean_y' : mean_y,\n",
    "                    'sigma_y': sigma_y}\n",
    "            print(f\"allowable error: {allowable_error} RES: {_res}\")\n",
    "            # sys.stdout = stdout_back\n",
    "        \n",
    "        return _res   \n",
    "\n",
    "    with Pool(1) as pool:\n",
    "        \n",
    "        new_f = partial(f, calib_images_path)\n",
    "        res_f = pool.map(new_f, range(60))\n",
    "        \n",
    "        rang = np.arange(5, 0, -5/60)\n",
    "        res = list(zip(rang, res_f))\n"
   ]
  },
  {
   "cell_type": "code",
   "execution_count": 4,
   "metadata": {
    "ExecuteTime": {
     "end_time": "2019-05-02T16:45:06.711048Z",
     "start_time": "2019-05-02T08:57:23.717Z"
    }
   },
   "outputs": [
    {
     "ename": "NameError",
     "evalue": "name 'res' is not defined",
     "traceback": [
      "\u001b[1;31m---------------------------------------------------------------------------\u001b[0m",
      "\u001b[1;31mNameError\u001b[0m                                 Traceback (most recent call last)",
      "\u001b[1;32m<ipython-input-4-39f1eb42fcce>\u001b[0m in \u001b[0;36m<module>\u001b[1;34m\u001b[0m\n\u001b[0;32m      2\u001b[0m \u001b[0mY\u001b[0m \u001b[1;33m=\u001b[0m \u001b[1;33m[\u001b[0m\u001b[1;33m]\u001b[0m\u001b[1;33m\u001b[0m\u001b[1;33m\u001b[0m\u001b[0m\n\u001b[0;32m      3\u001b[0m \u001b[0macc\u001b[0m \u001b[1;33m=\u001b[0m \u001b[1;33m[\u001b[0m\u001b[1;33m]\u001b[0m\u001b[1;33m\u001b[0m\u001b[1;33m\u001b[0m\u001b[0m\n\u001b[1;32m----> 4\u001b[1;33m \u001b[1;32mfor\u001b[0m \u001b[0maccuracy\u001b[0m\u001b[1;33m,\u001b[0m \u001b[0mdic\u001b[0m \u001b[1;32min\u001b[0m \u001b[0mres\u001b[0m\u001b[1;33m:\u001b[0m\u001b[1;33m\u001b[0m\u001b[1;33m\u001b[0m\u001b[0m\n\u001b[0m\u001b[0;32m      5\u001b[0m     \u001b[1;32mif\u001b[0m \u001b[0mdic\u001b[0m \u001b[1;32mis\u001b[0m \u001b[1;32mnot\u001b[0m \u001b[1;32mNone\u001b[0m\u001b[1;33m:\u001b[0m\u001b[1;33m\u001b[0m\u001b[1;33m\u001b[0m\u001b[0m\n\u001b[0;32m      6\u001b[0m         \u001b[0macc\u001b[0m \u001b[1;33m+=\u001b[0m \u001b[1;33m[\u001b[0m\u001b[0maccuracy\u001b[0m\u001b[1;33m]\u001b[0m\u001b[1;33m\u001b[0m\u001b[1;33m\u001b[0m\u001b[0m\n",
      "\u001b[1;31mNameError\u001b[0m: name 'res' is not defined"
     ],
     "output_type": "error"
    }
   ],
   "source": [
    "X = []\n",
    "Y = []\n",
    "acc = []\n",
    "for accuracy, dic in res:\n",
    "    if dic is not None:\n",
    "        acc += [accuracy]\n",
    "        X += [dic['mean_x']]\n",
    "        Y += [dic['mean_y']]\n",
    "    #print(f\"Accuracy:{accuracy} X:{tup[0][0]} y:{tup[1][0]}\")\n",
    "acc = acc[::-1]\n",
    "X = X[::-1]\n",
    "Y = Y[::-1]\n",
    "r = 60\n",
    "plt.scatter(acc[:r], X[:r])\n",
    "plt.scatter(acc[:r], Y[:r])\n",
    "plt.plot(acc[:r], [0]*len(acc[:r]))\n",
    "plt.show()"
   ]
  },
  {
   "cell_type": "code",
   "execution_count": 16,
   "metadata": {
    "ExecuteTime": {
     "end_time": "2019-05-01T16:50:51.680683Z",
     "start_time": "2019-05-01T16:50:51.673672Z"
    }
   },
   "outputs": [
    {
     "name": "stdout",
     "output_type": "stream",
     "text": [
      "5.0000 X:0.5815 Y:1.3078\n",
      "4.9167 X:0.5815 Y:1.3078\n",
      "4.8333 X:0.5815 Y:1.3078\n",
      "4.7500 X:0.5815 Y:1.3078\n",
      "4.6667 X:0.5815 Y:1.3078\n",
      "4.5833 X:0.5851 Y:1.2911\n",
      "4.5000 X:0.5851 Y:1.2911\n",
      "4.4167 X:0.5892 Y:1.2753\n",
      "4.3333 X:0.5892 Y:1.2753\n",
      "4.2500 X:0.5892 Y:1.2753\n",
      "4.1667 X:0.5892 Y:1.2753\n",
      "4.0833 X:0.5892 Y:1.2753\n",
      "4.0000 X:0.5892 Y:1.2753\n",
      "3.9167 X:0.5768 Y:1.2840\n",
      "3.8333 X:0.5768 Y:1.2840\n",
      "3.7500 X:0.5768 Y:1.2840\n",
      "3.6667 X:0.5659 Y:1.2832\n",
      "3.5833 X:0.5565 Y:1.2913\n",
      "3.5000 X:0.5683 Y:1.2692\n",
      "3.4167 X:0.5683 Y:1.2692\n",
      "3.3333 X:0.5683 Y:1.2692\n",
      "3.2500 X:0.5683 Y:1.2692\n",
      "3.1667 X:0.5769 Y:1.2495\n",
      "3.0833 X:0.5769 Y:1.2495\n",
      "3.0000 X:0.5596 Y:1.2562\n",
      "2.9167 X:0.5663 Y:1.2380\n",
      "2.8333 X:0.5663 Y:1.2380\n",
      "2.7500 X:0.5677 Y:1.2258\n",
      "2.6667 X:0.5723 Y:1.2086\n",
      "2.5833 X:0.5723 Y:1.2086\n",
      "2.5000 X:0.5753 Y:1.1935\n",
      "2.4167 X:0.5684 Y:1.2012\n",
      "2.3333 X:0.5533 Y:1.1921\n",
      "2.2500 X:0.5496 Y:1.1885\n",
      "2.1667 X:0.5460 Y:1.1851\n",
      "2.0833 X:0.5312 Y:1.1600\n",
      "2.0000 X:0.5211 Y:1.1637\n",
      "1.9167 X:0.5148 Y:1.1499\n",
      "1.8333 X:0.4658 Y:1.1137\n",
      "1.7500 X:0.4860 Y:1.1080\n",
      "1.6667 X:0.4905 Y:1.1077\n",
      "1.5833 X:0.4125 Y:1.0531\n",
      "1.5000 X:0.3762 Y:1.0203\n",
      "1.4167 X:0.3839 Y:0.9968\n",
      "1.3333 X:0.3897 Y:0.9999\n",
      "1.2500 X:0.3817 Y:0.9594\n",
      "1.1667 X:-0.1468 Y:0.6192\n",
      "1.0833 X:-0.2872 Y:0.4592\n",
      "1.0000 X:-0.3329 Y:0.4132\n",
      "0.9167 X:-0.3558 Y:0.3869\n",
      "0.8333 X:-0.3683 Y:0.3950\n",
      "0.7500 X:-0.3599 Y:0.3890\n",
      "0.6667 X:-0.3774 Y:0.3834\n",
      "0.5833 X:-0.3446 Y:0.3227\n",
      "0.5000 X:-0.3653 Y:0.3028\n",
      "0.4167 X:-0.3861 Y:0.2501\n",
      "0.3333 X:-0.5122 Y:0.1713\n",
      "0.2500 X:-0.1587 Y:0.0298\n",
      "0.1667 X:0.1762 Y:-0.0897\n",
      "0.0833 X:0.2601 Y:-0.1670\n"
     ]
    }
   ],
   "source": [
    "for x in list(zip(acc, X, Y)):\n",
    "    print(\"%.4f X:%.4f Y:%.4f\" % x)"
   ]
  }
 ],
 "metadata": {
  "kernelspec": {
   "display_name": "Python 3",
   "language": "python",
   "name": "python3"
  },
  "language_info": {
   "codemirror_mode": {
    "name": "ipython",
    "version": 3
   },
   "file_extension": ".py",
   "mimetype": "text/x-python",
   "name": "python",
   "nbconvert_exporter": "python",
   "pygments_lexer": "ipython3",
   "version": "3.6.8"
  }
 },
 "nbformat": 4,
 "nbformat_minor": 2
}
