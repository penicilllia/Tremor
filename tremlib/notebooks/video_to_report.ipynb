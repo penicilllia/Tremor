{
 "cells": [
  {
   "cell_type": "code",
   "execution_count": 1,
   "metadata": {
    "ExecuteTime": {
     "end_time": "2019-04-12T08:54:54.969182Z",
     "start_time": "2019-04-12T08:54:54.425045Z"
    }
   },
   "outputs": [],
   "source": [
    "from tremlib import TremResearcher\n",
    "import pandas as pd"
   ]
  },
  {
   "cell_type": "code",
   "execution_count": 2,
   "metadata": {
    "ExecuteTime": {
     "end_time": "2019-04-12T08:55:02.457639Z",
     "start_time": "2019-04-12T08:54:55.457274Z"
    }
   },
   "outputs": [
    {
     "name": "stdout",
     "output_type": "stream",
     "text": [
      "POSE ESTIMATION STARTS:\n",
      "CAMERA CALIBRATION ... DONE\n"
     ]
    }
   ],
   "source": [
    "researcher = TremResearcher(marks_num=5, marks_size_mm=10)\n",
    "calib_images = researcher.photo_files(r'D:\\Projects\\Tremor\\Calibration\\Calibration photo\\BACK\\Focus distance 50mm (5)')\n",
    "researcher.calibrate(images_paths=calib_images)"
   ]
  },
  {
   "cell_type": "code",
   "execution_count": 3,
   "metadata": {
    "ExecuteTime": {
     "end_time": "2019-04-12T08:57:10.704675Z",
     "start_time": "2019-04-12T08:55:03.072757Z"
    }
   },
   "outputs": [],
   "source": [
    "df_reports = []\n",
    "for video in researcher.video_files(\"D:\\Projects\\Tremor\\Остальные видео\\Видео для Гавриленко\\Горбунов\"):\n",
    "    df_reports += [researcher.get_report(file_path=video,\n",
    "                          sec_to_cut=0.0,\n",
    "                          out_video=False)]"
   ]
  },
  {
   "cell_type": "code",
   "execution_count": 4,
   "metadata": {
    "ExecuteTime": {
     "end_time": "2019-04-12T11:12:14.315417Z",
     "start_time": "2019-04-12T11:12:11.161609Z"
    }
   },
   "outputs": [],
   "source": [
    "for i, df_report in enumerate(df_reports):\n",
    "    df_report.to_excel(f'{i}_report.xlsx')"
   ]
  },
  {
   "cell_type": "code",
   "execution_count": null,
   "metadata": {},
   "outputs": [],
   "source": []
  }
 ],
 "metadata": {
  "kernelspec": {
   "display_name": "Python 3",
   "language": "python",
   "name": "python3"
  },
  "language_info": {
   "codemirror_mode": {
    "name": "ipython",
    "version": 3
   },
   "file_extension": ".py",
   "mimetype": "text/x-python",
   "name": "python",
   "nbconvert_exporter": "python",
   "pygments_lexer": "ipython3",
   "version": "3.6.8"
  }
 },
 "nbformat": 4,
 "nbformat_minor": 1
}
